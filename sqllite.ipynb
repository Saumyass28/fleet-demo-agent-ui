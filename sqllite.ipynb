{
 "cells": [
  {
   "cell_type": "code",
   "execution_count": 2,
   "id": "ee30ae6c",
   "metadata": {},
   "outputs": [],
   "source": [
    "import sqlite3"
   ]
  },
  {
   "cell_type": "code",
   "execution_count": 3,
   "id": "e86586e2",
   "metadata": {},
   "outputs": [],
   "source": [
    "DB_FILE = \"fleet_demo.db\""
   ]
  },
  {
   "cell_type": "code",
   "execution_count": 4,
   "id": "f840f803",
   "metadata": {},
   "outputs": [
    {
     "name": "stdout",
     "output_type": "stream",
     "text": [
      "✅ Database 'fleet_demo.db' created and populated successfully!\n"
     ]
    }
   ],
   "source": [
    "def init_db():\n",
    "    conn = sqlite3.connect(DB_FILE)\n",
    "    cursor = conn.cursor()\n",
    "\n",
    "    # Drop tables if they exist (clean start)\n",
    "    cursor.execute(\"DROP TABLE IF EXISTS oems\")\n",
    "    cursor.execute(\"DROP TABLE IF EXISTS vehicles\")\n",
    "    cursor.execute(\"DROP TABLE IF EXISTS reviews\")\n",
    "\n",
    "    # Create tables\n",
    "    cursor.execute(\"\"\"\n",
    "    CREATE TABLE oems (\n",
    "        id INTEGER PRIMARY KEY AUTOINCREMENT,\n",
    "        name TEXT,\n",
    "        contact TEXT,\n",
    "        city TEXT\n",
    "    )\n",
    "    \"\"\")\n",
    "    cursor.execute(\"\"\"\n",
    "    CREATE TABLE vehicles (\n",
    "        id INTEGER PRIMARY KEY AUTOINCREMENT,\n",
    "        model TEXT,\n",
    "        dealer TEXT,\n",
    "        type TEXT,\n",
    "        price_lakhs INTEGER,\n",
    "        mileage TEXT,\n",
    "        warranty TEXT\n",
    "    )\n",
    "    \"\"\")\n",
    "    cursor.execute(\"\"\"\n",
    "    CREATE TABLE reviews (\n",
    "        id INTEGER PRIMARY KEY AUTOINCREMENT,\n",
    "        model TEXT,\n",
    "        rating INTEGER,\n",
    "        comment TEXT\n",
    "    )\n",
    "    \"\"\")\n",
    "\n",
    "    # Insert sample OEMs\n",
    "    cursor.executemany(\"\"\"\n",
    "    INSERT INTO oems (name, contact, city) VALUES (?, ?, ?)\n",
    "    \"\"\", [\n",
    "        (\"Ford Commercial Vehicles\", \"ford@fleet.com\", \"Detroit, MI\"),\n",
    "        (\"General Motors Fleet\", \"gm@fleet.com\", \"Dallas, TX\"),\n",
    "        (\"PACCAR (Kenworth & Peterbilt)\", \"paccar@fleet.com\", \"Seattle, WA\"),\n",
    "        (\"Navistar International\", \"navistar@fleet.com\", \"Chicago, IL\"),\n",
    "        (\"Tesla Semi\", \"tesla@fleet.com\", \"Fremont, CA\")\n",
    "    ])\n",
    "\n",
    "    # Insert sample vehicles\n",
    "    cursor.executemany(\"\"\"\n",
    "    INSERT INTO vehicles (model, dealer, type, price_lakhs, mileage, warranty)\n",
    "    VALUES (?, ?, ?, ?, ?, ?)\n",
    "    \"\"\", [\n",
    "        (\"Ford F-750\", \"Ford Dealer Detroit\", \"Truck\", 30, \"7 mpg\", \"3 years\"),\n",
    "        (\"Chevy Express Van\", \"GM Dealer Dallas\", \"Van\", 18, \"15 mpg\", \"3 years\"),\n",
    "        (\"Kenworth T680\", \"Kenworth Dealer Seattle\", \"Truck\", 45, \"6.5 mpg\", \"4 years\"),\n",
    "        (\"International LT\", \"Navistar Dealer Chicago\", \"Truck\", 38, \"6.8 mpg\", \"4 years\"),\n",
    "        (\"Tesla Semi\", \"Tesla Dealer Fremont\", \"Electric Truck\", 50, \"500 miles/charge\", \"5 years\")\n",
    "    ])\n",
    "\n",
    "    # Insert sample reviews\n",
    "    cursor.executemany(\"\"\"\n",
    "    INSERT INTO reviews (model, rating, comment) VALUES (?, ?, ?)\n",
    "    \"\"\", [\n",
    "        (\"Ford F-750\", 4, \"Strong performance, great for heavy loads.\"),\n",
    "        (\"Ford F-750\", 5, \"Ford service network is excellent.\"),\n",
    "        (\"Chevy Express Van\", 4, \"Good utility for city deliveries.\"),\n",
    "        (\"Chevy Express Van\", 3, \"Fuel economy could be better.\"),\n",
    "        (\"Kenworth T680\", 5, \"Best in class comfort and efficiency.\"),\n",
    "        (\"Kenworth T680\", 4, \"High upfront cost but worth it.\"),\n",
    "        (\"International LT\", 4, \"Reliable truck with good uptime.\"),\n",
    "        (\"Tesla Semi\", 5, \"Amazing acceleration and futuristic design.\"),\n",
    "        (\"Tesla Semi\", 4, \"Charging network still growing.\")\n",
    "    ])\n",
    "\n",
    "    conn.commit()\n",
    "    conn.close()\n",
    "    print(f\"✅ Database '{DB_FILE}' created and populated successfully!\")\n",
    "\n",
    "if __name__ == \"__main__\":\n",
    "    init_db()"
   ]
  },
  {
   "cell_type": "code",
   "execution_count": null,
   "id": "2a8c86f5",
   "metadata": {},
   "outputs": [],
   "source": []
  }
 ],
 "metadata": {
  "kernelspec": {
   "display_name": "Python 3",
   "language": "python",
   "name": "python3"
  },
  "language_info": {
   "codemirror_mode": {
    "name": "ipython",
    "version": 3
   },
   "file_extension": ".py",
   "mimetype": "text/x-python",
   "name": "python",
   "nbconvert_exporter": "python",
   "pygments_lexer": "ipython3",
   "version": "3.11.9"
  }
 },
 "nbformat": 4,
 "nbformat_minor": 5
}
